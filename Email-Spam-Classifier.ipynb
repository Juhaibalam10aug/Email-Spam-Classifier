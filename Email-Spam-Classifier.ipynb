{
 "cells": [
  {
   "cell_type": "markdown",
   "id": "66e08501",
   "metadata": {},
   "source": [
    "# Email-Spam-Classifier"
   ]
  },
  {
   "cell_type": "code",
   "execution_count": 1,
   "id": "fe11ffdd",
   "metadata": {},
   "outputs": [],
   "source": [
    "#importing warning to ignore future warning \n",
    "import warnings\n",
    "warnings.filterwarnings(\"ignore\")"
   ]
  },
  {
   "cell_type": "code",
   "execution_count": 2,
   "id": "01135ceb",
   "metadata": {},
   "outputs": [],
   "source": [
    "import pandas as pd \n",
    "import numpy as np\n",
    "import seaborn as sns \n",
    "import matplotlib.pyplot as plt"
   ]
  },
  {
   "cell_type": "code",
   "execution_count": 3,
   "id": "1e280be0",
   "metadata": {},
   "outputs": [],
   "source": [
    "data = pd.read_csv(\"spam (1).csv\",encoding=\"cp437\")"
   ]
  },
  {
   "cell_type": "code",
   "execution_count": 4,
   "id": "2681c082",
   "metadata": {},
   "outputs": [
    {
     "data": {
      "text/html": [
       "<div>\n",
       "<style scoped>\n",
       "    .dataframe tbody tr th:only-of-type {\n",
       "        vertical-align: middle;\n",
       "    }\n",
       "\n",
       "    .dataframe tbody tr th {\n",
       "        vertical-align: top;\n",
       "    }\n",
       "\n",
       "    .dataframe thead th {\n",
       "        text-align: right;\n",
       "    }\n",
       "</style>\n",
       "<table border=\"1\" class=\"dataframe\">\n",
       "  <thead>\n",
       "    <tr style=\"text-align: right;\">\n",
       "      <th></th>\n",
       "      <th>v1</th>\n",
       "      <th>v2</th>\n",
       "      <th>Unnamed: 2</th>\n",
       "      <th>Unnamed: 3</th>\n",
       "      <th>Unnamed: 4</th>\n",
       "    </tr>\n",
       "  </thead>\n",
       "  <tbody>\n",
       "    <tr>\n",
       "      <th>0</th>\n",
       "      <td>ham</td>\n",
       "      <td>Go until jurong point, crazy.. Available only ...</td>\n",
       "      <td>NaN</td>\n",
       "      <td>NaN</td>\n",
       "      <td>NaN</td>\n",
       "    </tr>\n",
       "    <tr>\n",
       "      <th>1</th>\n",
       "      <td>ham</td>\n",
       "      <td>Ok lar... Joking wif u oni...</td>\n",
       "      <td>NaN</td>\n",
       "      <td>NaN</td>\n",
       "      <td>NaN</td>\n",
       "    </tr>\n",
       "    <tr>\n",
       "      <th>2</th>\n",
       "      <td>spam</td>\n",
       "      <td>Free entry in 2 a wkly comp to win FA Cup fina...</td>\n",
       "      <td>NaN</td>\n",
       "      <td>NaN</td>\n",
       "      <td>NaN</td>\n",
       "    </tr>\n",
       "    <tr>\n",
       "      <th>3</th>\n",
       "      <td>ham</td>\n",
       "      <td>U dun say so early hor... U c already then say...</td>\n",
       "      <td>NaN</td>\n",
       "      <td>NaN</td>\n",
       "      <td>NaN</td>\n",
       "    </tr>\n",
       "    <tr>\n",
       "      <th>4</th>\n",
       "      <td>ham</td>\n",
       "      <td>Nah I don't think he goes to usf, he lives aro...</td>\n",
       "      <td>NaN</td>\n",
       "      <td>NaN</td>\n",
       "      <td>NaN</td>\n",
       "    </tr>\n",
       "  </tbody>\n",
       "</table>\n",
       "</div>"
      ],
      "text/plain": [
       "     v1                                                 v2 Unnamed: 2  \\\n",
       "0   ham  Go until jurong point, crazy.. Available only ...        NaN   \n",
       "1   ham                      Ok lar... Joking wif u oni...        NaN   \n",
       "2  spam  Free entry in 2 a wkly comp to win FA Cup fina...        NaN   \n",
       "3   ham  U dun say so early hor... U c already then say...        NaN   \n",
       "4   ham  Nah I don't think he goes to usf, he lives aro...        NaN   \n",
       "\n",
       "  Unnamed: 3 Unnamed: 4  \n",
       "0        NaN        NaN  \n",
       "1        NaN        NaN  \n",
       "2        NaN        NaN  \n",
       "3        NaN        NaN  \n",
       "4        NaN        NaN  "
      ]
     },
     "execution_count": 4,
     "metadata": {},
     "output_type": "execute_result"
    }
   ],
   "source": [
    "data.head()"
   ]
  },
  {
   "cell_type": "code",
   "execution_count": 5,
   "id": "91272d78",
   "metadata": {},
   "outputs": [
    {
     "data": {
      "text/plain": [
       "(5572, 5)"
      ]
     },
     "execution_count": 5,
     "metadata": {},
     "output_type": "execute_result"
    }
   ],
   "source": [
    "data.shape"
   ]
  },
  {
   "cell_type": "code",
   "execution_count": 6,
   "id": "227acd52",
   "metadata": {},
   "outputs": [
    {
     "name": "stdout",
     "output_type": "stream",
     "text": [
      "<class 'pandas.core.frame.DataFrame'>\n",
      "RangeIndex: 5572 entries, 0 to 5571\n",
      "Data columns (total 5 columns):\n",
      " #   Column      Non-Null Count  Dtype \n",
      "---  ------      --------------  ----- \n",
      " 0   v1          5572 non-null   object\n",
      " 1   v2          5572 non-null   object\n",
      " 2   Unnamed: 2  50 non-null     object\n",
      " 3   Unnamed: 3  12 non-null     object\n",
      " 4   Unnamed: 4  6 non-null      object\n",
      "dtypes: object(5)\n",
      "memory usage: 217.8+ KB\n"
     ]
    }
   ],
   "source": [
    "data.info()"
   ]
  },
  {
   "cell_type": "markdown",
   "id": "57369265",
   "metadata": {},
   "source": [
    "# Data Cleaning"
   ]
  },
  {
   "cell_type": "code",
   "execution_count": 7,
   "id": "57d579b2",
   "metadata": {},
   "outputs": [],
   "source": [
    "# There is very less values in last three column that's why dropping it\n",
    "data.drop([\"Unnamed: 2\",\"Unnamed: 3\",\"Unnamed: 4\"],axis = 1,inplace = True)"
   ]
  },
  {
   "cell_type": "code",
   "execution_count": 8,
   "id": "e2bad2c2",
   "metadata": {},
   "outputs": [],
   "source": [
    "# Renaming Columns name \n",
    "data.rename({\"v1\":\"Target\",\"v2\":\"Text\",},axis = 1,inplace = True)"
   ]
  },
  {
   "cell_type": "code",
   "execution_count": 9,
   "id": "b645f664",
   "metadata": {},
   "outputs": [
    {
     "data": {
      "text/html": [
       "<div>\n",
       "<style scoped>\n",
       "    .dataframe tbody tr th:only-of-type {\n",
       "        vertical-align: middle;\n",
       "    }\n",
       "\n",
       "    .dataframe tbody tr th {\n",
       "        vertical-align: top;\n",
       "    }\n",
       "\n",
       "    .dataframe thead th {\n",
       "        text-align: right;\n",
       "    }\n",
       "</style>\n",
       "<table border=\"1\" class=\"dataframe\">\n",
       "  <thead>\n",
       "    <tr style=\"text-align: right;\">\n",
       "      <th></th>\n",
       "      <th>Target</th>\n",
       "      <th>Text</th>\n",
       "    </tr>\n",
       "  </thead>\n",
       "  <tbody>\n",
       "    <tr>\n",
       "      <th>773</th>\n",
       "      <td>ham</td>\n",
       "      <td>I wil be there with in  &amp;lt;#&amp;gt;  minutes. Go...</td>\n",
       "    </tr>\n",
       "    <tr>\n",
       "      <th>3069</th>\n",
       "      <td>ham</td>\n",
       "      <td>I'm now but have to wait till 2 for the bus to...</td>\n",
       "    </tr>\n",
       "    <tr>\n",
       "      <th>2096</th>\n",
       "      <td>ham</td>\n",
       "      <td>I'm done...</td>\n",
       "    </tr>\n",
       "    <tr>\n",
       "      <th>2875</th>\n",
       "      <td>ham</td>\n",
       "      <td>Fuck cedar key and fuck her (come over anyway ...</td>\n",
       "    </tr>\n",
       "    <tr>\n",
       "      <th>3338</th>\n",
       "      <td>ham</td>\n",
       "      <td>Babe !!!! I LOVE YOU !!!! *covers your face in...</td>\n",
       "    </tr>\n",
       "  </tbody>\n",
       "</table>\n",
       "</div>"
      ],
      "text/plain": [
       "     Target                                               Text\n",
       "773     ham  I wil be there with in  &lt;#&gt;  minutes. Go...\n",
       "3069    ham  I'm now but have to wait till 2 for the bus to...\n",
       "2096    ham                                        I'm done...\n",
       "2875    ham  Fuck cedar key and fuck her (come over anyway ...\n",
       "3338    ham  Babe !!!! I LOVE YOU !!!! *covers your face in..."
      ]
     },
     "execution_count": 9,
     "metadata": {},
     "output_type": "execute_result"
    }
   ],
   "source": [
    "data.sample(5)"
   ]
  },
  {
   "cell_type": "code",
   "execution_count": 10,
   "id": "213e8691",
   "metadata": {},
   "outputs": [
    {
     "data": {
      "text/plain": [
       "403"
      ]
     },
     "execution_count": 10,
     "metadata": {},
     "output_type": "execute_result"
    }
   ],
   "source": [
    "data.duplicated().sum()"
   ]
  },
  {
   "cell_type": "code",
   "execution_count": 11,
   "id": "71ce022d",
   "metadata": {},
   "outputs": [],
   "source": [
    "# Dropping duplicate rows \n",
    "data.drop_duplicates(keep=\"first\",inplace = True)"
   ]
  },
  {
   "cell_type": "code",
   "execution_count": 12,
   "id": "fa3bb9ab",
   "metadata": {},
   "outputs": [
    {
     "data": {
      "text/plain": [
       "(5169, 2)"
      ]
     },
     "execution_count": 12,
     "metadata": {},
     "output_type": "execute_result"
    }
   ],
   "source": [
    "data.shape"
   ]
  },
  {
   "cell_type": "code",
   "execution_count": 13,
   "id": "9b8b3477",
   "metadata": {},
   "outputs": [
    {
     "data": {
      "text/plain": [
       "Target    0\n",
       "Text      0\n",
       "dtype: int64"
      ]
     },
     "execution_count": 13,
     "metadata": {},
     "output_type": "execute_result"
    }
   ],
   "source": [
    "data.isnull().sum()"
   ]
  },
  {
   "cell_type": "markdown",
   "id": "5cbed9f5",
   "metadata": {},
   "source": [
    "# EDA"
   ]
  },
  {
   "cell_type": "code",
   "execution_count": 14,
   "id": "03a370ec",
   "metadata": {},
   "outputs": [
    {
     "data": {
      "text/plain": [
       "ham     4516\n",
       "spam     653\n",
       "Name: Target, dtype: int64"
      ]
     },
     "execution_count": 14,
     "metadata": {},
     "output_type": "execute_result"
    }
   ],
   "source": [
    "data[\"Target\"].value_counts()"
   ]
  },
  {
   "cell_type": "code",
   "execution_count": 15,
   "id": "a3d03192",
   "metadata": {},
   "outputs": [
    {
     "data": {
      "image/png": "[encoded data removed]",
      "text/plain": [
       "<Figure size 792x360 with 1 Axes>"
      ]
     },
     "metadata": {},
     "output_type": "display_data"
    }
   ],
   "source": [
    "plt.figure(figsize = (11,5))\n",
    "plt.pie(data[\"Target\"].value_counts(),labels = [\"ham\",\"spam\"],autopct=\"%.2f%%\")\n",
    "plt.show()"
   ]
  },
  {
   "cell_type": "markdown",
   "id": "680b5f1a",
   "metadata": {},
   "source": [
    "## Observation:- 87.37% mails are ham and 12.63% mails are spam and also data is imbalance"
   ]
  },
  {
   "cell_type": "code",
   "execution_count": 16,
   "id": "f78e61d6",
   "metadata": {},
   "outputs": [],
   "source": [
    "# Adding two columns one is for length of character and number of words\n",
    "data[\"Length_of_character\"] = data[\"Text\"].apply(len)"
   ]
  },
  {
   "cell_type": "code",
   "execution_count": 17,
   "id": "93f63e38",
   "metadata": {},
   "outputs": [],
   "source": [
    "import nltk"
   ]
  },
  {
   "cell_type": "code",
   "execution_count": 55,
   "id": "2572d62a",
   "metadata": {},
   "outputs": [
    {
     "name": "stderr",
     "output_type": "stream",
     "text": [
      "[nltk_data] Downloading package punkt to\n",
      "[nltk_data]     C:\\Users\\sony\\AppData\\Roaming\\nltk_data...\n",
      "[nltk_data]   Package punkt is already up-to-date!\n"
     ]
    },
    {
     "data": {
      "text/plain": [
       "True"
      ]
     },
     "execution_count": 55,
     "metadata": {},
     "output_type": "execute_result"
    }
   ],
   "source": [
    "nltk.download('punkt')"
   ]
  },
  {
   "cell_type": "code",
   "execution_count": 19,
   "id": "8407a45a",
   "metadata": {},
   "outputs": [],
   "source": [
    "def tokenizer(text):\n",
    "    text = nltk.word_tokenize(text)\n",
    "    return len(text)\n",
    "    "
   ]
  },
  {
   "cell_type": "code",
   "execution_count": 20,
   "id": "0aaa7790",
   "metadata": {},
   "outputs": [],
   "source": [
    "data[\"Number_of_words\"] = data[\"Text\"].apply(tokenizer)"
   ]
  },
  {
   "cell_type": "code",
   "execution_count": 21,
   "id": "93fc6c23",
   "metadata": {},
   "outputs": [
    {
     "data": {
      "text/html": [
       "<div>\n",
       "<style scoped>\n",
       "    .dataframe tbody tr th:only-of-type {\n",
       "        vertical-align: middle;\n",
       "    }\n",
       "\n",
       "    .dataframe tbody tr th {\n",
       "        vertical-align: top;\n",
       "    }\n",
       "\n",
       "    .dataframe thead th {\n",
       "        text-align: right;\n",
       "    }\n",
       "</style>\n",
       "<table border=\"1\" class=\"dataframe\">\n",
       "  <thead>\n",
       "    <tr style=\"text-align: right;\">\n",
       "      <th></th>\n",
       "      <th>Target</th>\n",
       "      <th>Text</th>\n",
       "      <th>Length_of_character</th>\n",
       "      <th>Number_of_words</th>\n",
       "    </tr>\n",
       "  </thead>\n",
       "  <tbody>\n",
       "    <tr>\n",
       "      <th>1025</th>\n",
       "      <td>ham</td>\n",
       "      <td>I have a sore throat. It's scratches when I talk</td>\n",
       "      <td>48</td>\n",
       "      <td>12</td>\n",
       "    </tr>\n",
       "    <tr>\n",
       "      <th>892</th>\n",
       "      <td>ham</td>\n",
       "      <td>Nutter. Cutter. Ctter. Cttergg. Cttargg. Ctarg...</td>\n",
       "      <td>62</td>\n",
       "      <td>16</td>\n",
       "    </tr>\n",
       "    <tr>\n",
       "      <th>4264</th>\n",
       "      <td>ham</td>\n",
       "      <td>&amp;lt;DECIMAL&amp;gt; m but its not a common car he...</td>\n",
       "      <td>132</td>\n",
       "      <td>35</td>\n",
       "    </tr>\n",
       "    <tr>\n",
       "      <th>4048</th>\n",
       "      <td>ham</td>\n",
       "      <td>Yeah that's the impression I got</td>\n",
       "      <td>32</td>\n",
       "      <td>7</td>\n",
       "    </tr>\n",
       "    <tr>\n",
       "      <th>423</th>\n",
       "      <td>spam</td>\n",
       "      <td>URGENT! Your Mobile number has been awarded wi...</td>\n",
       "      <td>137</td>\n",
       "      <td>26</td>\n",
       "    </tr>\n",
       "  </tbody>\n",
       "</table>\n",
       "</div>"
      ],
      "text/plain": [
       "     Target                                               Text  \\\n",
       "1025    ham   I have a sore throat. It's scratches when I talk   \n",
       "892     ham  Nutter. Cutter. Ctter. Cttergg. Cttargg. Ctarg...   \n",
       "4264    ham   &lt;DECIMAL&gt; m but its not a common car he...   \n",
       "4048    ham                   Yeah that's the impression I got   \n",
       "423    spam  URGENT! Your Mobile number has been awarded wi...   \n",
       "\n",
       "      Length_of_character  Number_of_words  \n",
       "1025                   48               12  \n",
       "892                    62               16  \n",
       "4264                  132               35  \n",
       "4048                   32                7  \n",
       "423                   137               26  "
      ]
     },
     "execution_count": 21,
     "metadata": {},
     "output_type": "execute_result"
    }
   ],
   "source": [
    "data.sample(5)"
   ]
  },
  {
   "cell_type": "code",
   "execution_count": 22,
   "id": "dce6963c",
   "metadata": {},
   "outputs": [
    {
     "data": {
      "text/html": [
       "<div>\n",
       "<style scoped>\n",
       "    .dataframe tbody tr th:only-of-type {\n",
       "        vertical-align: middle;\n",
       "    }\n",
       "\n",
       "    .dataframe tbody tr th {\n",
       "        vertical-align: top;\n",
       "    }\n",
       "\n",
       "    .dataframe thead th {\n",
       "        text-align: right;\n",
       "    }\n",
       "</style>\n",
       "<table border=\"1\" class=\"dataframe\">\n",
       "  <thead>\n",
       "    <tr style=\"text-align: right;\">\n",
       "      <th></th>\n",
       "      <th>Length_of_character</th>\n",
       "      <th>Number_of_words</th>\n",
       "    </tr>\n",
       "  </thead>\n",
       "  <tbody>\n",
       "    <tr>\n",
       "      <th>count</th>\n",
       "      <td>5169.000000</td>\n",
       "      <td>5169.000000</td>\n",
       "    </tr>\n",
       "    <tr>\n",
       "      <th>mean</th>\n",
       "      <td>78.977945</td>\n",
       "      <td>18.453279</td>\n",
       "    </tr>\n",
       "    <tr>\n",
       "      <th>std</th>\n",
       "      <td>58.236293</td>\n",
       "      <td>13.324793</td>\n",
       "    </tr>\n",
       "    <tr>\n",
       "      <th>min</th>\n",
       "      <td>2.000000</td>\n",
       "      <td>1.000000</td>\n",
       "    </tr>\n",
       "    <tr>\n",
       "      <th>25%</th>\n",
       "      <td>36.000000</td>\n",
       "      <td>9.000000</td>\n",
       "    </tr>\n",
       "    <tr>\n",
       "      <th>50%</th>\n",
       "      <td>60.000000</td>\n",
       "      <td>15.000000</td>\n",
       "    </tr>\n",
       "    <tr>\n",
       "      <th>75%</th>\n",
       "      <td>117.000000</td>\n",
       "      <td>26.000000</td>\n",
       "    </tr>\n",
       "    <tr>\n",
       "      <th>max</th>\n",
       "      <td>910.000000</td>\n",
       "      <td>220.000000</td>\n",
       "    </tr>\n",
       "  </tbody>\n",
       "</table>\n",
       "</div>"
      ],
      "text/plain": [
       "       Length_of_character  Number_of_words\n",
       "count          5169.000000      5169.000000\n",
       "mean             78.977945        18.453279\n",
       "std              58.236293        13.324793\n",
       "min               2.000000         1.000000\n",
       "25%              36.000000         9.000000\n",
       "50%              60.000000        15.000000\n",
       "75%             117.000000        26.000000\n",
       "max             910.000000       220.000000"
      ]
     },
     "execution_count": 22,
     "metadata": {},
     "output_type": "execute_result"
    }
   ],
   "source": [
    "data.describe()"
   ]
  },
  {
   "cell_type": "code",
   "execution_count": 23,
   "id": "007de101",
   "metadata": {},
   "outputs": [
    {
     "data": {
      "text/html": [
       "<div>\n",
       "<style scoped>\n",
       "    .dataframe tbody tr th:only-of-type {\n",
       "        vertical-align: middle;\n",
       "    }\n",
       "\n",
       "    .dataframe tbody tr th {\n",
       "        vertical-align: top;\n",
       "    }\n",
       "\n",
       "    .dataframe thead th {\n",
       "        text-align: right;\n",
       "    }\n",
       "</style>\n",
       "<table border=\"1\" class=\"dataframe\">\n",
       "  <thead>\n",
       "    <tr style=\"text-align: right;\">\n",
       "      <th></th>\n",
       "      <th>Length_of_character</th>\n",
       "      <th>Number_of_words</th>\n",
       "    </tr>\n",
       "  </thead>\n",
       "  <tbody>\n",
       "    <tr>\n",
       "      <th>count</th>\n",
       "      <td>653.000000</td>\n",
       "      <td>653.000000</td>\n",
       "    </tr>\n",
       "    <tr>\n",
       "      <th>mean</th>\n",
       "      <td>137.891271</td>\n",
       "      <td>27.667688</td>\n",
       "    </tr>\n",
       "    <tr>\n",
       "      <th>std</th>\n",
       "      <td>30.137753</td>\n",
       "      <td>7.008418</td>\n",
       "    </tr>\n",
       "    <tr>\n",
       "      <th>min</th>\n",
       "      <td>13.000000</td>\n",
       "      <td>2.000000</td>\n",
       "    </tr>\n",
       "    <tr>\n",
       "      <th>25%</th>\n",
       "      <td>132.000000</td>\n",
       "      <td>25.000000</td>\n",
       "    </tr>\n",
       "    <tr>\n",
       "      <th>50%</th>\n",
       "      <td>149.000000</td>\n",
       "      <td>29.000000</td>\n",
       "    </tr>\n",
       "    <tr>\n",
       "      <th>75%</th>\n",
       "      <td>157.000000</td>\n",
       "      <td>32.000000</td>\n",
       "    </tr>\n",
       "    <tr>\n",
       "      <th>max</th>\n",
       "      <td>224.000000</td>\n",
       "      <td>46.000000</td>\n",
       "    </tr>\n",
       "  </tbody>\n",
       "</table>\n",
       "</div>"
      ],
      "text/plain": [
       "       Length_of_character  Number_of_words\n",
       "count           653.000000       653.000000\n",
       "mean            137.891271        27.667688\n",
       "std              30.137753         7.008418\n",
       "min              13.000000         2.000000\n",
       "25%             132.000000        25.000000\n",
       "50%             149.000000        29.000000\n",
       "75%             157.000000        32.000000\n",
       "max             224.000000        46.000000"
      ]
     },
     "execution_count": 23,
     "metadata": {},
     "output_type": "execute_result"
    }
   ],
   "source": [
    "data[data[\"Target\"] == \"spam\"].describe()"
   ]
  },
  {
   "cell_type": "markdown",
   "id": "2228a1b6",
   "metadata": {},
   "source": [
    "# Observation:- Avarege 137 characters and 27 words have been used in spam messages."
   ]
  },
  {
   "cell_type": "code",
   "execution_count": 24,
   "id": "16341603",
   "metadata": {},
   "outputs": [
    {
     "data": {
      "text/html": [
       "<div>\n",
       "<style scoped>\n",
       "    .dataframe tbody tr th:only-of-type {\n",
       "        vertical-align: middle;\n",
       "    }\n",
       "\n",
       "    .dataframe tbody tr th {\n",
       "        vertical-align: top;\n",
       "    }\n",
       "\n",
       "    .dataframe thead th {\n",
       "        text-align: right;\n",
       "    }\n",
       "</style>\n",
       "<table border=\"1\" class=\"dataframe\">\n",
       "  <thead>\n",
       "    <tr style=\"text-align: right;\">\n",
       "      <th></th>\n",
       "      <th>Length_of_character</th>\n",
       "      <th>Number_of_words</th>\n",
       "    </tr>\n",
       "  </thead>\n",
       "  <tbody>\n",
       "    <tr>\n",
       "      <th>count</th>\n",
       "      <td>4516.000000</td>\n",
       "      <td>4516.000000</td>\n",
       "    </tr>\n",
       "    <tr>\n",
       "      <th>mean</th>\n",
       "      <td>70.459256</td>\n",
       "      <td>17.120903</td>\n",
       "    </tr>\n",
       "    <tr>\n",
       "      <th>std</th>\n",
       "      <td>56.358207</td>\n",
       "      <td>13.493725</td>\n",
       "    </tr>\n",
       "    <tr>\n",
       "      <th>min</th>\n",
       "      <td>2.000000</td>\n",
       "      <td>1.000000</td>\n",
       "    </tr>\n",
       "    <tr>\n",
       "      <th>25%</th>\n",
       "      <td>34.000000</td>\n",
       "      <td>8.000000</td>\n",
       "    </tr>\n",
       "    <tr>\n",
       "      <th>50%</th>\n",
       "      <td>52.000000</td>\n",
       "      <td>13.000000</td>\n",
       "    </tr>\n",
       "    <tr>\n",
       "      <th>75%</th>\n",
       "      <td>90.000000</td>\n",
       "      <td>22.000000</td>\n",
       "    </tr>\n",
       "    <tr>\n",
       "      <th>max</th>\n",
       "      <td>910.000000</td>\n",
       "      <td>220.000000</td>\n",
       "    </tr>\n",
       "  </tbody>\n",
       "</table>\n",
       "</div>"
      ],
      "text/plain": [
       "       Length_of_character  Number_of_words\n",
       "count          4516.000000      4516.000000\n",
       "mean             70.459256        17.120903\n",
       "std              56.358207        13.493725\n",
       "min               2.000000         1.000000\n",
       "25%              34.000000         8.000000\n",
       "50%              52.000000        13.000000\n",
       "75%              90.000000        22.000000\n",
       "max             910.000000       220.000000"
      ]
     },
     "execution_count": 24,
     "metadata": {},
     "output_type": "execute_result"
    }
   ],
   "source": [
    "data[data[\"Target\"] == \"ham\"].describe()"
   ]
  },
  {
   "cell_type": "markdown",
   "id": "00b603ee",
   "metadata": {},
   "source": [
    "# Observation:- Avarege 71 characters and 17 words have been used in ham messages."
   ]
  },
  {
   "cell_type": "code",
   "execution_count": 25,
   "id": "f193ff79",
   "metadata": {},
   "outputs": [
    {
     "data": {
      "image/png": "[encoded data removed]",
      "text/plain": [
       "<Figure size 720x360 with 1 Axes>"
      ]
     },
     "metadata": {
      "needs_background": "light"
     },
     "output_type": "display_data"
    }
   ],
   "source": [
    "plt.figure(figsize = (10,5))\n",
    "sns.histplot(data[data[\"Target\"] == \"ham\"][\"Length_of_character\"])\n",
    "sns.histplot(data[data[\"Target\"] == \"spam\"][\"Length_of_character\"],color = \"red\");"
   ]
  },
  {
   "cell_type": "markdown",
   "id": "edb6c605",
   "metadata": {},
   "source": [
    "# Observation :- In spam messages less number of characters have been used whereas in ham messages more number of characters have been used "
   ]
  },
  {
   "cell_type": "code",
   "execution_count": 26,
   "id": "0424c175",
   "metadata": {},
   "outputs": [
    {
     "data": {
      "image/png": "[encoded data removed]",
      "text/plain": [
       "<Figure size 720x360 with 1 Axes>"
      ]
     },
     "metadata": {
      "needs_background": "light"
     },
     "output_type": "display_data"
    }
   ],
   "source": [
    "plt.figure(figsize = (10,5))\n",
    "sns.histplot(data[data[\"Target\"] == \"ham\"][\"Number_of_words\"])\n",
    "sns.histplot(data[data[\"Target\"] == \"spam\"][\"Number_of_words\"],color = \"#f51414\");"
   ]
  },
  {
   "cell_type": "markdown",
   "id": "680da967",
   "metadata": {},
   "source": [
    "# Observation :- In spam messages less number of words have been used whereas in ham messages more number of words have been used. "
   ]
  },
  {
   "cell_type": "markdown",
   "id": "6639c84c",
   "metadata": {},
   "source": [
    "\n",
    "\n",
    "\n",
    "\n",
    "\n",
    "\n",
    "\n",
    "# Data pre-processing\n",
    "\n",
    "\n",
    "\n",
    "\n"
   ]
  },
  {
   "cell_type": "code",
   "execution_count": 27,
   "id": "0cdfd37f",
   "metadata": {},
   "outputs": [
    {
     "data": {
      "text/html": [
       "<div>\n",
       "<style scoped>\n",
       "    .dataframe tbody tr th:only-of-type {\n",
       "        vertical-align: middle;\n",
       "    }\n",
       "\n",
       "    .dataframe tbody tr th {\n",
       "        vertical-align: top;\n",
       "    }\n",
       "\n",
       "    .dataframe thead th {\n",
       "        text-align: right;\n",
       "    }\n",
       "</style>\n",
       "<table border=\"1\" class=\"dataframe\">\n",
       "  <thead>\n",
       "    <tr style=\"text-align: right;\">\n",
       "      <th></th>\n",
       "      <th>Target</th>\n",
       "      <th>Text</th>\n",
       "      <th>Length_of_character</th>\n",
       "      <th>Number_of_words</th>\n",
       "    </tr>\n",
       "  </thead>\n",
       "  <tbody>\n",
       "    <tr>\n",
       "      <th>0</th>\n",
       "      <td>ham</td>\n",
       "      <td>Go until jurong point, crazy.. Available only ...</td>\n",
       "      <td>111</td>\n",
       "      <td>24</td>\n",
       "    </tr>\n",
       "    <tr>\n",
       "      <th>1</th>\n",
       "      <td>ham</td>\n",
       "      <td>Ok lar... Joking wif u oni...</td>\n",
       "      <td>29</td>\n",
       "      <td>8</td>\n",
       "    </tr>\n",
       "    <tr>\n",
       "      <th>2</th>\n",
       "      <td>spam</td>\n",
       "      <td>Free entry in 2 a wkly comp to win FA Cup fina...</td>\n",
       "      <td>155</td>\n",
       "      <td>37</td>\n",
       "    </tr>\n",
       "    <tr>\n",
       "      <th>3</th>\n",
       "      <td>ham</td>\n",
       "      <td>U dun say so early hor... U c already then say...</td>\n",
       "      <td>49</td>\n",
       "      <td>13</td>\n",
       "    </tr>\n",
       "    <tr>\n",
       "      <th>4</th>\n",
       "      <td>ham</td>\n",
       "      <td>Nah I don't think he goes to usf, he lives aro...</td>\n",
       "      <td>61</td>\n",
       "      <td>15</td>\n",
       "    </tr>\n",
       "  </tbody>\n",
       "</table>\n",
       "</div>"
      ],
      "text/plain": [
       "  Target                                               Text  \\\n",
       "0    ham  Go until jurong point, crazy.. Available only ...   \n",
       "1    ham                      Ok lar... Joking wif u oni...   \n",
       "2   spam  Free entry in 2 a wkly comp to win FA Cup fina...   \n",
       "3    ham  U dun say so early hor... U c already then say...   \n",
       "4    ham  Nah I don't think he goes to usf, he lives aro...   \n",
       "\n",
       "   Length_of_character  Number_of_words  \n",
       "0                  111               24  \n",
       "1                   29                8  \n",
       "2                  155               37  \n",
       "3                   49               13  \n",
       "4                   61               15  "
      ]
     },
     "execution_count": 27,
     "metadata": {},
     "output_type": "execute_result"
    }
   ],
   "source": [
    "data.head()"
   ]
  },
  {
   "cell_type": "code",
   "execution_count": 28,
   "id": "a242c681",
   "metadata": {},
   "outputs": [],
   "source": [
    "# Doing label_encoding of target column \n",
    "\n",
    "from sklearn.preprocessing import LabelEncoder\n",
    "LE = LabelEncoder()\n",
    "data[\"Target\"] = LE.fit_transform(data[\"Target\"])\n"
   ]
  },
  {
   "cell_type": "code",
   "execution_count": 54,
   "id": "1c6d19ca",
   "metadata": {},
   "outputs": [
    {
     "name": "stderr",
     "output_type": "stream",
     "text": [
      "[nltk_data] Downloading package stopwords to\n",
      "[nltk_data]     C:\\Users\\sony\\AppData\\Roaming\\nltk_data...\n",
      "[nltk_data]   Package stopwords is already up-to-date!\n"
     ]
    },
    {
     "data": {
      "text/plain": [
       "True"
      ]
     },
     "execution_count": 54,
     "metadata": {},
     "output_type": "execute_result"
    }
   ],
   "source": [
    "nltk.download(\"stopwords\")\n"
   ]
  },
  {
   "cell_type": "code",
   "execution_count": 30,
   "id": "43731985",
   "metadata": {},
   "outputs": [
    {
     "name": "stdout",
     "output_type": "stream",
     "text": [
      "['i', 'me', 'my', 'myself', 'we', 'our', 'ours', 'ourselves', 'you', \"you're\"]\n",
      "179\n"
     ]
    }
   ],
   "source": [
    "# nltk has 179 stop words but i am showing only 10\n",
    "from nltk.corpus import stopwords\n",
    "stop_word = stopwords.words(\"english\")\n",
    "print(stop_word[:10])\n",
    "print(len(stop_word))"
   ]
  },
  {
   "cell_type": "code",
   "execution_count": 31,
   "id": "2aa42ab0",
   "metadata": {},
   "outputs": [
    {
     "data": {
      "text/plain": [
       "'!\"#$%&\\'()*+,-./:;<=>?@[\\\\]^_`{|}~'"
      ]
     },
     "execution_count": 31,
     "metadata": {},
     "output_type": "execute_result"
    }
   ],
   "source": [
    "# Punctuation\n",
    "import string\n",
    "string.punctuation"
   ]
  },
  {
   "cell_type": "code",
   "execution_count": 32,
   "id": "39b99d23",
   "metadata": {},
   "outputs": [],
   "source": [
    "from nltk.stem.porter import PorterStemmer\n",
    "ps = PorterStemmer()"
   ]
  },
  {
   "cell_type": "code",
   "execution_count": 33,
   "id": "ab87d5e6",
   "metadata": {},
   "outputs": [],
   "source": [
    "\n",
    "def Transformed_text(text):\n",
    "    text = text.lower()\n",
    "    text = nltk.word_tokenize(text)\n",
    "    # removing special character\n",
    "    y = []\n",
    "    for i in text:\n",
    "        if i.isalnum():\n",
    "            y.append(i)\n",
    "    \n",
    "    text = y[:]\n",
    "    y.clear()\n",
    "    # removing stop words\n",
    "    for i in text:\n",
    "        if i not in stopwords.words(\"english\") and i not in string.punctuation:\n",
    "            y.append(i)\n",
    "    \n",
    "    text = y[:]\n",
    "    y.clear()\n",
    "    \n",
    "    # stemmimg the words\n",
    "    for i in text:\n",
    "        y.append(ps.stem(i))\n",
    "        \n",
    "    return \" \".join(y)\n",
    "    "
   ]
  },
  {
   "cell_type": "code",
   "execution_count": 34,
   "id": "5d650976",
   "metadata": {},
   "outputs": [],
   "source": [
    "data[\"transformes_text\"] = data[\"Text\"].apply(Transformed_text)\n"
   ]
  },
  {
   "cell_type": "code",
   "execution_count": 35,
   "id": "3bed0ccb",
   "metadata": {},
   "outputs": [
    {
     "data": {
      "text/html": [
       "<div>\n",
       "<style scoped>\n",
       "    .dataframe tbody tr th:only-of-type {\n",
       "        vertical-align: middle;\n",
       "    }\n",
       "\n",
       "    .dataframe tbody tr th {\n",
       "        vertical-align: top;\n",
       "    }\n",
       "\n",
       "    .dataframe thead th {\n",
       "        text-align: right;\n",
       "    }\n",
       "</style>\n",
       "<table border=\"1\" class=\"dataframe\">\n",
       "  <thead>\n",
       "    <tr style=\"text-align: right;\">\n",
       "      <th></th>\n",
       "      <th>Target</th>\n",
       "      <th>Text</th>\n",
       "      <th>Length_of_character</th>\n",
       "      <th>Number_of_words</th>\n",
       "      <th>transformes_text</th>\n",
       "    </tr>\n",
       "  </thead>\n",
       "  <tbody>\n",
       "    <tr>\n",
       "      <th>4868</th>\n",
       "      <td>0</td>\n",
       "      <td>1. Tension face 2. Smiling face 3. Waste face ...</td>\n",
       "      <td>158</td>\n",
       "      <td>36</td>\n",
       "      <td>tension face smile face wast face innoc face f...</td>\n",
       "    </tr>\n",
       "    <tr>\n",
       "      <th>1863</th>\n",
       "      <td>0</td>\n",
       "      <td>I'll let you know when it kicks in</td>\n",
       "      <td>34</td>\n",
       "      <td>9</td>\n",
       "      <td>let know kick</td>\n",
       "    </tr>\n",
       "    <tr>\n",
       "      <th>2316</th>\n",
       "      <td>0</td>\n",
       "      <td>That's cause your old. I live to be high.</td>\n",
       "      <td>41</td>\n",
       "      <td>12</td>\n",
       "      <td>caus old live high</td>\n",
       "    </tr>\n",
       "    <tr>\n",
       "      <th>5300</th>\n",
       "      <td>0</td>\n",
       "      <td>I can't make it tonight</td>\n",
       "      <td>23</td>\n",
       "      <td>6</td>\n",
       "      <td>ca make tonight</td>\n",
       "    </tr>\n",
       "    <tr>\n",
       "      <th>707</th>\n",
       "      <td>0</td>\n",
       "      <td>Quite late lar... Ard 12 anyway i wun b drivin...</td>\n",
       "      <td>49</td>\n",
       "      <td>12</td>\n",
       "      <td>quit late lar ard 12 anyway wun b drivin</td>\n",
       "    </tr>\n",
       "  </tbody>\n",
       "</table>\n",
       "</div>"
      ],
      "text/plain": [
       "      Target                                               Text  \\\n",
       "4868       0  1. Tension face 2. Smiling face 3. Waste face ...   \n",
       "1863       0                 I'll let you know when it kicks in   \n",
       "2316       0          That's cause your old. I live to be high.   \n",
       "5300       0                            I can't make it tonight   \n",
       "707        0  Quite late lar... Ard 12 anyway i wun b drivin...   \n",
       "\n",
       "      Length_of_character  Number_of_words  \\\n",
       "4868                  158               36   \n",
       "1863                   34                9   \n",
       "2316                   41               12   \n",
       "5300                   23                6   \n",
       "707                    49               12   \n",
       "\n",
       "                                       transformes_text  \n",
       "4868  tension face smile face wast face innoc face f...  \n",
       "1863                                      let know kick  \n",
       "2316                                 caus old live high  \n",
       "5300                                    ca make tonight  \n",
       "707            quit late lar ard 12 anyway wun b drivin  "
      ]
     },
     "execution_count": 35,
     "metadata": {},
     "output_type": "execute_result"
    }
   ],
   "source": [
    "data.sample(5)"
   ]
  },
  {
   "cell_type": "markdown",
   "id": "e8b4002c",
   "metadata": {},
   "source": [
    "# Model Building"
   ]
  },
  {
   "cell_type": "markdown",
   "id": "46a42b71",
   "metadata": {},
   "source": [
    "## Feature Selection"
   ]
  },
  {
   "cell_type": "code",
   "execution_count": 36,
   "id": "c0dac504",
   "metadata": {},
   "outputs": [],
   "source": [
    "x = data[\"transformes_text\"]"
   ]
  },
  {
   "cell_type": "code",
   "execution_count": 37,
   "id": "795c3063",
   "metadata": {},
   "outputs": [
    {
     "data": {
      "text/plain": [
       "712                                  08714712388 cost 10p\n",
       "807                                 boooo alway work quit\n",
       "665                     en chikku nang bakra msg kalstiya\n",
       "5272    u u 2 u b move flat co need arrang pick lamp e...\n",
       "4084    orang bring rington time chart hero free hit w...\n",
       "Name: transformes_text, dtype: object"
      ]
     },
     "execution_count": 37,
     "metadata": {},
     "output_type": "execute_result"
    }
   ],
   "source": [
    "x.sample(5)"
   ]
  },
  {
   "cell_type": "code",
   "execution_count": 38,
   "id": "e467abd8",
   "metadata": {},
   "outputs": [],
   "source": [
    "y = data[\"Target\"]"
   ]
  },
  {
   "cell_type": "code",
   "execution_count": 39,
   "id": "256426fd",
   "metadata": {},
   "outputs": [
    {
     "data": {
      "text/plain": [
       "3215    1\n",
       "2407    0\n",
       "3107    0\n",
       "5254    0\n",
       "373     0\n",
       "Name: Target, dtype: int32"
      ]
     },
     "execution_count": 39,
     "metadata": {},
     "output_type": "execute_result"
    }
   ],
   "source": [
    "y.sample(5)"
   ]
  },
  {
   "cell_type": "markdown",
   "id": "b74851cf",
   "metadata": {},
   "source": [
    "## Splitting data into train test"
   ]
  },
  {
   "cell_type": "code",
   "execution_count": 40,
   "id": "e522026e",
   "metadata": {},
   "outputs": [],
   "source": [
    "from sklearn.model_selection import train_test_split\n",
    "x_train,x_test,y_train,y_test = train_test_split(x,y,test_size = 0.25,random_state = 30)"
   ]
  },
  {
   "cell_type": "code",
   "execution_count": 41,
   "id": "b4679255",
   "metadata": {},
   "outputs": [
    {
     "data": {
      "text/plain": [
       "944     sent score sopha secondari applic school think...\n",
       "2460                             cant talk call keep call\n",
       "1964    honeybe said sweetest world god laugh amp said...\n",
       "1947                     batteri mr adewal uncl aka egbon\n",
       "4708             haha awesom might need take doin tonight\n",
       "                              ...                        \n",
       "5377    current lead bid paus auction send custom care...\n",
       "939     better made friday stuf like pig yesterday fee...\n",
       "508                                              signific\n",
       "4139    leav wif lar wan carri meh heavi da num 983215...\n",
       "4839    privat 2003 account statement show 800 point c...\n",
       "Name: transformes_text, Length: 3876, dtype: object"
      ]
     },
     "execution_count": 41,
     "metadata": {},
     "output_type": "execute_result"
    }
   ],
   "source": [
    "x_train "
   ]
  },
  {
   "cell_type": "code",
   "execution_count": 42,
   "id": "53743062",
   "metadata": {},
   "outputs": [
    {
     "data": {
      "text/plain": [
       "1919    yar want 2 scold u yest late alreadi got zhong...\n",
       "4263    broke list reason nobodi town ca tell sarcast ...\n",
       "1717    wow boy r back take 2007 uk tour win vip ticke...\n",
       "3617                                 hey check da list da\n",
       "3375    good afternon love today hope good mayb interv...\n",
       "                              ...                        \n",
       "2381    best line said love wait till day forget u day...\n",
       "3111                                         decid yet eh\n",
       "4111                                      see prolli yeah\n",
       "2409    aww first time u said u miss without ask miss ...\n",
       "2571                               worri finish march ish\n",
       "Name: transformes_text, Length: 1293, dtype: object"
      ]
     },
     "execution_count": 42,
     "metadata": {},
     "output_type": "execute_result"
    }
   ],
   "source": [
    "x_test"
   ]
  },
  {
   "cell_type": "markdown",
   "id": "fc2a8cf0",
   "metadata": {},
   "source": [
    "## converting text into frequencies of words using term frequency IDF "
   ]
  },
  {
   "cell_type": "code",
   "execution_count": 43,
   "id": "0d91bb8f",
   "metadata": {},
   "outputs": [],
   "source": [
    "from sklearn.feature_extraction.text import TfidfVectorizer\n",
    "f_e = TfidfVectorizer(min_df = 1)"
   ]
  },
  {
   "cell_type": "code",
   "execution_count": 44,
   "id": "8dd576be",
   "metadata": {},
   "outputs": [],
   "source": [
    "x_train = f_e.fit_transform(x_train)"
   ]
  },
  {
   "cell_type": "code",
   "execution_count": 45,
   "id": "f0fef8fc",
   "metadata": {},
   "outputs": [
    {
     "name": "stdout",
     "output_type": "stream",
     "text": [
      "  (0, 1994)\t0.23183334605809908\n",
      "  (0, 3018)\t0.22704991773454045\n",
      "  (0, 3640)\t0.27621392232296993\n",
      "  (0, 3615)\t0.26592423131474235\n",
      "  (0, 2833)\t0.21032439222409227\n",
      "  (0, 1445)\t0.16795978997112607\n",
      "  (0, 665)\t0.16795978997112607\n",
      "  (0, 1471)\t0.1863316442517205\n",
      "  (0, 4189)\t0.2444152774807356\n",
      "  (0, 738)\t0.19013609987064942\n",
      "  (0, 5007)\t0.28147654141299305\n",
      "  (0, 4341)\t0.3859180649557942\n",
      "  (0, 739)\t0.2533422998921059\n",
      "  (0, 4365)\t0.26592423131474235\n",
      "  (0, 4631)\t0.26592423131474235\n",
      "  (0, 4343)\t0.23183334605809908\n",
      "  (0, 4392)\t0.17000652250356255\n",
      "  (1, 2889)\t0.4541664012243376\n",
      "  (1, 1184)\t0.5788794815990143\n",
      "  (1, 4910)\t0.4715078852593599\n",
      "  (1, 1207)\t0.48611905940915023\n",
      "  (2, 1492)\t0.2722575055399187\n",
      "  (2, 1953)\t0.16215144095400752\n",
      "  (2, 3378)\t0.2502362926227365\n",
      "  (2, 3397)\t0.1631600937553707\n",
      "  :\t:\n",
      "  (3873, 4499)\t1.0\n",
      "  (3874, 2029)\t0.3745745215885826\n",
      "  (3874, 518)\t0.3745745215885826\n",
      "  (3874, 1225)\t0.3568519134607195\n",
      "  (3874, 3575)\t0.3265549147539402\n",
      "  (3874, 3256)\t0.3042270691005459\n",
      "  (3874, 2496)\t0.33452406780732513\n",
      "  (3874, 2976)\t0.2533865267614658\n",
      "  (3874, 3003)\t0.22377787818302755\n",
      "  (3874, 5476)\t0.2739300703937667\n",
      "  (3874, 5385)\t0.22108722393685534\n",
      "  (3874, 1559)\t0.20675463425179794\n",
      "  (3875, 351)\t0.36075980589250106\n",
      "  (3875, 93)\t0.36075980589250106\n",
      "  (3875, 1996)\t0.2732209685506381\n",
      "  (3875, 1382)\t0.2617732981976352\n",
      "  (3875, 2646)\t0.2819620214798813\n",
      "  (3875, 3889)\t0.25278240903259364\n",
      "  (3875, 443)\t0.2889945444200594\n",
      "  (3875, 4479)\t0.22876402113346297\n",
      "  (3875, 4725)\t0.2759378648859793\n",
      "  (3875, 563)\t0.24818541562567736\n",
      "  (3875, 251)\t0.2889945444200594\n",
      "  (3875, 3980)\t0.2759378648859793\n",
      "  (3875, 1184)\t0.1409970136819478\n"
     ]
    }
   ],
   "source": [
    "print(x_train)"
   ]
  },
  {
   "cell_type": "code",
   "execution_count": 46,
   "id": "bd6a542b",
   "metadata": {},
   "outputs": [],
   "source": [
    "x_test = f_e.transform(x_test)"
   ]
  },
  {
   "cell_type": "markdown",
   "id": "1dc7358c",
   "metadata": {},
   "source": [
    "## Fitting data to naive bayes"
   ]
  },
  {
   "cell_type": "code",
   "execution_count": 47,
   "id": "2dddc0ba",
   "metadata": {},
   "outputs": [],
   "source": [
    "from sklearn.naive_bayes import MultinomialNB\n",
    "NB = MultinomialNB()\n",
    "NB.fit(x_train,y_train)\n",
    "y_pred = NB.predict(x_test)"
   ]
  },
  {
   "cell_type": "code",
   "execution_count": 48,
   "id": "44873f2f",
   "metadata": {},
   "outputs": [
    {
     "name": "stdout",
     "output_type": "stream",
     "text": [
      "[0 0 1 ... 0 0 0]\n"
     ]
    }
   ],
   "source": [
    "print(y_pred)"
   ]
  },
  {
   "cell_type": "markdown",
   "id": "0a711d0a",
   "metadata": {},
   "source": [
    "## Fitting data to random forest "
   ]
  },
  {
   "cell_type": "code",
   "execution_count": 49,
   "id": "3f603b28",
   "metadata": {},
   "outputs": [],
   "source": [
    "from sklearn.ensemble import RandomForestClassifier\n",
    "rf = RandomForestClassifier(n_estimators = 100,random_state = (40))\n",
    "rf.fit(x_train,y_train)\n",
    "y_pred2 = rf.predict(x_test) "
   ]
  },
  {
   "cell_type": "code",
   "execution_count": 50,
   "id": "a2725a82",
   "metadata": {},
   "outputs": [
    {
     "name": "stdout",
     "output_type": "stream",
     "text": [
      "[0 0 1 ... 0 0 0]\n"
     ]
    }
   ],
   "source": [
    "print(y_pred2)"
   ]
  },
  {
   "cell_type": "markdown",
   "id": "5d5ba13d",
   "metadata": {},
   "source": [
    "## Evaluation of models"
   ]
  },
  {
   "cell_type": "code",
   "execution_count": 51,
   "id": "667cad59",
   "metadata": {},
   "outputs": [],
   "source": [
    "from sklearn.metrics import accuracy_score,precision_score"
   ]
  },
  {
   "cell_type": "code",
   "execution_count": 52,
   "id": "ae11f9a8",
   "metadata": {},
   "outputs": [
    {
     "name": "stdout",
     "output_type": "stream",
     "text": [
      "acccuracy of model:-  0.9489559164733179\n",
      "precision of model:-  1.0\n"
     ]
    }
   ],
   "source": [
    "# evaluation of naive bayes\n",
    "print(\"acccuracy of model:-\"+ \" \" ,accuracy_score(y_test,y_pred))\n",
    "print(\"precision of model:-\"+ \" \" ,precision_score(y_test,y_pred))\n"
   ]
  },
  {
   "cell_type": "code",
   "execution_count": 53,
   "id": "73c75079",
   "metadata": {},
   "outputs": [
    {
     "name": "stdout",
     "output_type": "stream",
     "text": [
      "acccuracy of model:-  0.9644238205723125\n",
      "precision of model:-  1.0\n"
     ]
    }
   ],
   "source": [
    "#evaluation of random forest\n",
    "print(\"acccuracy of model:-\"+ \" \",accuracy_score(y_test,y_pred2))\n",
    "print(\"precision of model:-\"+ \" \",precision_score(y_test,y_pred2))\n"
   ]
  },
  {
   "cell_type": "code",
   "execution_count": null,
   "id": "aaf1554e",
   "metadata": {},
   "outputs": [],
   "source": []
  }
 ],
 "metadata": {
  "kernelspec": {
   "display_name": "Python 3 (ipykernel)",
   "language": "python",
   "name": "python3"
  },
  "language_info": {
   "codemirror_mode": {
    "name": "ipython",
    "version": 3
   },
   "file_extension": ".py",
   "mimetype": "text/x-python",
   "name": "python",
   "nbconvert_exporter": "python",
   "pygments_lexer": "ipython3",
   "version": "3.9.12"
  }
 },
 "nbformat": 4,
 "nbformat_minor": 5
}
